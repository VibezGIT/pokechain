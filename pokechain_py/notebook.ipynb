{
 "cells": [
  {
   "cell_type": "markdown",
   "metadata": {},
   "source": [
    "# The Pokechain Problem"
   ]
  },
  {
   "cell_type": "code",
   "execution_count": 12,
   "metadata": {},
   "outputs": [],
   "source": [
    "import json\n",
    "\n",
    "#load the pokedex\n",
    "pokedex = json.load(open('pokedex.json'))\n",
    "\n",
    "nodes = {}\n",
    "\n",
    "for i in pokedex:\n",
    "  key = f\"{i[0]}{i[-1]}\"\n",
    "  if key in nodes:\n",
    "    nodes[key] += 1\n",
    "  else:\n",
    "    nodes[key] = 1"
   ]
  },
  {
   "cell_type": "code",
   "execution_count": 13,
   "metadata": {},
   "outputs": [
    {
     "name": "stdout",
     "output_type": "stream",
     "text": [
      "{'nn': 3, 'aa': 5, 'ee': 6, 'mm': 4, 'gg': 2, 'dd': 1, 'hh': 1, 'pp': 3, 'ss': 2, 'rr': 1, 'kk': 2, 'tt': 3, 'oo': 1, 'uu': 1}\n",
      "{'irri': 2, 'sees': 8, 'mddm': 2, 'kaak': 2, 'raar': 2, 'reer': 8, 'fwwf': 2, 'shhs': 6, 'naan': 6, 'noon': 2, 'nggn': 2, 'nssn': 4, 'gttg': 4, 'ohho': 2, 'gmmg': 2, 'pssp': 2, 'mhhm': 2, 'gkkg': 4, 'aeea': 2, 'pggp': 2, 'pllp': 4, 'phhp': 2, 'amma': 6, 'mppm': 2, 'meem': 2, 'tllt': 4, 'rhhr': 4, 'slls': 10, 'dggd': 4, 'mkkm': 2, 'srrs': 10, 'deed': 4, 'kyyk': 2, 'krrk': 2, 'lggl': 2, 'wggw': 2, 'taat': 2, 'knnk': 2, 'haah': 6, 'saas': 12, 'sggs': 6, 'ezze': 2, 'mrrm': 6, 'tsst': 10, 'fnnf': 2, 'orro': 2, 'kssk': 2, 'alla': 8, 'sxxs': 2, 'mssm': 6, 'drrd': 2, 'mwwm': 2, 'cllc': 4, 'tnnt': 4, 'frrf': 2, 'htth': 2, 'nlln': 6, 'cttc': 4, 'nuun': 2, 'wttw': 2, 'fssf': 2, 'syys': 2, 'eiie': 2, 'lrrl': 2, 'trrt': 6, 'toot': 2, 'leel': 2, 'lddl': 4, 'mccm': 6, 'wddw': 2, 'whhw': 2, 'dssd': 4, 'keek': 2, 'kttk': 4, 'lyyl': 2, 'cssc': 2, 'mttm': 2, 'daad': 2, 'gaag': 2, 'uttu': 2, 'mzzm': 2, 'yrry': 2}\n"
     ]
    }
   ],
   "source": [
    "doubles = {}\n",
    "\n",
    "for i in nodes.keys():\n",
    "  if i[0] == i[-1]:\n",
    "    doubles[i] = nodes[i]\n",
    "\n",
    "for i in doubles.keys():\n",
    "  del nodes[i]\n",
    "\n",
    "\n",
    "flips = {}\n",
    "to_del = []\n",
    "for i in nodes.keys():\n",
    "  flip = f\"{i[-1]}{i[0]}\"\n",
    "  if flip in nodes:\n",
    "    i_val = nodes[i]\n",
    "    f_val = nodes[flip]\n",
    "\n",
    "    smaller = min(i_val, f_val)\n",
    "\n",
    "    if smaller == 0:\n",
    "      continue\n",
    "\n",
    "    flips[i+flip] = smaller * 2\n",
    "    nodes[i] -= smaller\n",
    "    nodes[flip] -= smaller\n",
    "\n",
    "    if nodes[i] == 0:\n",
    "      to_del.append(i)\n",
    "    if nodes[flip] == 0:\n",
    "      to_del.append(flip)\n",
    "\n",
    "for i in to_del:\n",
    "  if i in nodes:\n",
    "    del nodes[i]\n",
    "\n",
    "print(doubles)\n",
    "print(flips)"
   ]
  },
  {
   "cell_type": "code",
   "execution_count": 14,
   "metadata": {},
   "outputs": [
    {
     "name": "stdout",
     "output_type": "stream",
     "text": [
      "{'vr': 1, 'vx': 1, 'jf': 2, 've': 4, 'vt': 3, 'vh': 3, 'vl': 1, 'vb': 1, 'jx': 1, 'vn': 5, 'jn': 1, 'qa': 1, 'qe': 1, 'qh': 1, 'va': 2, 'ji': 1, 'vi': 1, 'jt': 1, 'jk': 1, 'vy': 1, 'qn': 1, 'jo': 1}\n",
      "{'p2': 1}\n"
     ]
    }
   ],
   "source": [
    "no_lead = {}\n",
    "no_follow = {}\n",
    "for i in nodes.keys():\n",
    "  leadless = True\n",
    "  followless = True\n",
    "  for j in nodes.keys():\n",
    "    if i[0] == j[-1]:\n",
    "      leadless = False\n",
    "    if i[-1] == j[0]:\n",
    "      followless = False\n",
    "  \n",
    "  if leadless:\n",
    "    no_lead[i] = nodes[i]\n",
    "  elif followless:\n",
    "    no_follow[i] = nodes[i]\n",
    "  \n",
    "for i in no_lead.keys():\n",
    "  del nodes[i]\n",
    "for i in no_follow.keys():\n",
    "  del nodes[i]\n",
    "\n",
    "print(no_lead)\n",
    "print(no_follow)\n"
   ]
  },
  {
   "cell_type": "code",
   "execution_count": 15,
   "metadata": {},
   "outputs": [
    {
     "name": "stdout",
     "output_type": "stream",
     "text": [
      "['br', 'ir', 'cr', 'cn', 'cd', 'se', 'we', 'be', 'ce', 'ka', 'bl', 'py', 'po', 'pt', 'ra', 're', 'sw', 'pu', 'ru', 'sh', 'no', 'cy', 'zt', 'gt', 'gm', 'ps', 'dt', 'do', 'pn', 'pk', 'my', 'pe', 'ge', 'ae', 'mp', 'me', 'bt', 'wl', 'tl', 'gr', 'pa', 'so', 'mn', 'fd', 'mk', 'sr', 'gy', 'hr', 'ox', 'de', 'ho', 'he', 'hn', 'kg', 'wg', 'rn', 'ta', 'kn', 'ha', 'sa', 'gn', 'sg', 'su', 'mr', 'pr', 'fn', 'oe', 'ko', 'sx', 'ao', 'zs', 'ms', 'di', 'dr', 'mo', 'mw', 'ca', 'bf', 'cl', 'tn', 'te', 'cw', 'fr', 'st', 'ft', 'ln', 'sk', 'ct', 'cu', 'if', 'ti', 'xu', 'fy', 'bm', 'ml', 'pd', 'hp', 'sn', 'ya', 'wr', 'en', 'un', 'wt', 'fs', 'gl', 'ug', 'sb', 'oy', 'sy', 'hm', 'dn', 'by', 'ci', 'to', 'bn', 'ma', 'zn', 'le', 'dx', 'ld', 'lo', 'dy', 'an', 'ie', 'wd', 'th', 'ze', 'bh', 'ch', 'co', 'wn', 'hl', 'ke', 'ly', 'bw', 'cs', 'fl', 'cg', 'bg', 'hy', 'mx', 'si', 'ck', 'aw', 'pz', 'ue', 'af', 'da', 'ga', 'sd', 'za', 'gh', 'zk', 'fh', 'lk', 'fe', 'bc', 'bp', 'fg', 'fu', 'iy', 'hk', 'ki', 'wi', 'tx', 'ou', 'tu', 'mu', 'xe', 'ty', 'in', 'wo', 'bd', 'ba', 'ip', 'dh', 'dk', 'ku', 'cx']\n",
      "179\n"
     ]
    }
   ],
   "source": [
    "with open('array_for_rust.json', 'w') as outfile:\n",
    "      json.dump(list(nodes.keys()), outfile)\n",
    "print(list(nodes.keys()))\n",
    "print(len(nodes.keys()))"
   ]
  }
 ],
 "metadata": {
  "kernelspec": {
   "display_name": "Python 3.8.10 ('.venv': venv)",
   "language": "python",
   "name": "python3"
  },
  "language_info": {
   "codemirror_mode": {
    "name": "ipython",
    "version": 3
   },
   "file_extension": ".py",
   "mimetype": "text/x-python",
   "name": "python",
   "nbconvert_exporter": "python",
   "pygments_lexer": "ipython3",
   "version": "3.8.10"
  },
  "orig_nbformat": 4,
  "vscode": {
   "interpreter": {
    "hash": "b958d974317d8f0464be0902626227c340e1970b9a78f40916f2ab5ccad5ab87"
   }
  }
 },
 "nbformat": 4,
 "nbformat_minor": 2
}
