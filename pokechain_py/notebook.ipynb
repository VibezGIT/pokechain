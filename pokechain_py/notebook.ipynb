{
 "cells": [
  {
   "cell_type": "markdown",
   "metadata": {},
   "source": [
    "# The Pokechain Problem"
   ]
  },
  {
   "cell_type": "code",
   "execution_count": 12,
   "metadata": {},
   "outputs": [],
   "source": [
    "import json\n",
    "\n",
    "#load the pokedex\n",
    "pokedex = json.load(open('pokedex.json'))\n",
    "\n",
    "nodes = {}\n",
    "\n",
    "for i in pokedex:\n",
    "  key = f\"{i[0]}{i[-1]}\"\n",
    "  if key in nodes:\n",
    "    nodes[key] += 1\n",
    "  else:\n",
    "    nodes[key] = 1"
   ]
  },
  {
   "cell_type": "code",
   "execution_count": 13,
   "metadata": {},
   "outputs": [
    {
     "name": "stdout",
     "output_type": "stream",
     "text": [
      "{'nn': 3, 'aa': 5, 'ee': 6, 'mm': 4, 'gg': 2, 'dd': 1, 'hh': 1, 'pp': 3, 'ss': 2, 'rr': 1, 'kk': 2, 'tt': 3, 'oo': 1, 'uu': 1}\n",
      "{'irri': 2, 'sees': 8, 'mddm': 2, 'kaak': 2, 'raar': 2, 'reer': 8, 'fwwf': 2, 'shhs': 6, 'naan': 6, 'noon': 2, 'nggn': 2, 'nssn': 4, 'gttg': 4, 'ohho': 2, 'gmmg': 2, 'pssp': 2, 'mhhm': 2, 'gkkg': 4, 'aeea': 2, 'pggp': 2, 'pllp': 4, 'phhp': 2, 'amma': 6, 'mppm': 2, 'meem': 2, 'tllt': 4, 'rhhr': 4, 'slls': 10, 'dggd': 4, 'mkkm': 2, 'srrs': 10, 'deed': 4, 'kyyk': 2, 'krrk': 2, 'lggl': 2, 'wggw': 2, 'taat': 2, 'knnk': 2, 'haah': 6, 'saas': 12, 'sggs': 6, 'ezze': 2, 'mrrm': 6, 'tsst': 10, 'fnnf': 2, 'orro': 2, 'kssk': 2, 'alla': 8, 'sxxs': 2, 'mssm': 6, 'drrd': 2, 'mwwm': 2, 'cllc': 4, 'tnnt': 4, 'frrf': 2, 'htth': 2, 'nlln': 6, 'cttc': 4, 'nuun': 2, 'wttw': 2, 'fssf': 2, 'syys': 2, 'eiie': 2, 'lrrl': 2, 'trrt': 6, 'toot': 2, 'leel': 2, 'lddl': 4, 'mccm': 6, 'wddw': 2, 'whhw': 2, 'dssd': 4, 'keek': 2, 'kttk': 4, 'lyyl': 2, 'cssc': 2, 'mttm': 2, 'daad': 2, 'gaag': 2, 'uttu': 2, 'mzzm': 2, 'yrry': 2}\n"
     ]
    }
   ],
   "source": [
    "doubles = {}\n",
    "\n",
    "for i in nodes.keys():\n",
    "  if i[0] == i[-1]:\n",
    "    doubles[i] = nodes[i]\n",
    "\n",
    "for i in doubles.keys():\n",
    "  del nodes[i]\n",
    "\n",
    "\n",
    "flips = {}\n",
    "to_del = []\n",
    "for i in nodes.keys():\n",
    "  flip = f\"{i[-1]}{i[0]}\"\n",
    "  if flip in nodes:\n",
    "    i_val = nodes[i]\n",
    "    f_val = nodes[flip]\n",
    "\n",
    "    smaller = min(i_val, f_val)\n",
    "\n",
    "    if smaller == 0:\n",
    "      continue\n",
    "\n",
    "    flips[i+flip] = smaller * 2\n",
    "    nodes[i] -= smaller\n",
    "    nodes[flip] -= smaller\n",
    "\n",
    "    if nodes[i] == 0:\n",
    "      to_del.append(i)\n",
    "    if nodes[flip] == 0:\n",
    "      to_del.append(flip)\n",
    "\n",
    "for i in to_del:\n",
    "  if i in nodes:\n",
    "    del nodes[i]\n",
    "\n",
    "print(doubles)\n",
    "print(flips)"
   ]
  },
  {
   "cell_type": "code",
   "execution_count": null,
   "metadata": {},
   "outputs": [],
   "source": [
    "no_lead = {}\n",
    "no_follow = {}\n",
    "for i in nodes.keys():\n",
    "  leadless = True\n",
    "  followless = True\n",
    "  for j in nodes.keys():\n",
    "    if "
   ]
  },
  {
   "cell_type": "code",
   "execution_count": 14,
   "metadata": {},
   "outputs": [
    {
     "name": "stdout",
     "output_type": "stream",
     "text": [
      "['br', 'br', 'br', 'ir', 'vr', 'cr', 'cr', 'cr', 'cr', 'cr', 'cr', 'cr', 'cn', 'cn', 'cn', 'cn', 'cn', 'cd', 'se', 'se', 'se', 'se', 'se', 'se', 'se', 'se', 'se', 'se', 'se', 'se', 'se', 'se', 'se', 'we', 'we', 'we', 'we', 'we', 'be', 'be', 'be', 'be', 'be', 'be', 'be', 'be', 'be', 'be', 'ce', 'ce', 'ce', 'ce', 'ce', 'ce', 'ce', 'ce', 'ce', 'ce', 'ce', 'ce', 'ce', 'ka', 'ka', 'ka', 'ka', 'ka', 'bl', 'bl', 'bl', 'py', 'py', 'py', 'po', 'po', 'po', 'po', 'po', 'pt', 'pt', 'pt', 'pt', 'ra', 'ra', 'ra', 're', 'sw', 'sw', 'sw', 'pu', 'pu', 'pu', 'pu', 'ru', 'ru', 'ru', 'sh', 'no', 'cy', 'cy', 'cy', 'cy', 'cy', 'vx', 'jf', 'jf', 'zt', 'gt', 'gt', 'gt', 'gt', 'gt', 'gm', 've', 've', 've', 've', 'ps', 'vt', 'vt', 'vt', 'vh', 'vh', 'vh', 'dt', 'dt', 'dt', 'dt', 'dt', 'dt', 'do', 'do', 'do', 'do', 'do', 'pn', 'pn', 'pn', 'pn', 'pn', 'pk', 'pk', 'my', 'my', 'my', 'my', 'my', 'pe', 'pe', 'pe', 'pe', 'pe', 'pe', 'pe', 'pe', 'ge', 'ge', 'ge', 'ge', 'ge', 'ge', 'ge', 'ge', 'ge', 'ae', 'ae', 'mp', 'mp', 'mp', 'mp', 'mp', 'me', 'me', 'me', 'me', 'me', 'me', 'me', 'me', 'me', 'me', 'me', 'bt', 'bt', 'bt', 'wl', 'wl', 'vl', 'tl', 'tl', 'tl', 'tl', 'tl', 'gr', 'gr', 'gr', 'gr', 'gr', 'gr', 'gr', 'gr', 'gr', 'gr', 'pa', 'pa', 'pa', 'pa', 'pa', 'so', 'so', 'so', 'so', 'so', 'so', 'so', 'mn', 'mn', 'mn', 'mn', 'fd', 'fd', 'mk', 'mk', 'sr', 'sr', 'sr', 'sr', 'sr', 'sr', 'sr', 'gy', 'gy', 'gy', 'hr', 'hr', 'ox', 'de', 'de', 'de', 'de', 'de', 'de', 'de', 'de', 'de', 'ho', 'vb', 'he', 'he', 'he', 'he', 'hn', 'hn', 'hn', 'hn', 'kg', 'wg', 'rn', 'rn', 'ta', 'ta', 'ta', 'ta', 'kn', 'ha', 'ha', 'sa', 'sa', 'sa', 'sa', 'sa', 'sa', 'gn', 'gn', 'gn', 'gn', 'gn', 'sg', 'su', 'su', 'jx', 'mr', 'mr', 'pr', 'pr', 'pr', 'pr', 'pr', 'pr', 'pr', 'vn', 'vn', 'vn', 'vn', 'vn', 'jn', 'fn', 'fn', 'fn', 'fn', 'oe', 'oe', 'ko', 'ko', 'ko', 'sx', 'sx', 'sx', 'ao', 'ao', 'ao', 'zs', 'zs', 'ms', 'ms', 'di', 'di', 'dr', 'dr', 'dr', 'dr', 'mo', 'mo', 'mo', 'mo', 'mo', 'mo', 'mo', 'mw', 'mw', 'ca', 'ca', 'ca', 'ca', 'ca', 'ca', 'ca', 'ca', 'ca', 'bf', 'bf', 'cl', 'cl', 'cl', 'cl', 'qa', 'tn', 'te', 'te', 'te', 'te', 'te', 'cw', 'fr', 'fr', 'st', 'st', 'st', 'st', 'st', 'st', 'st', 'st', 'ft', 'ln', 'ln', 'ln', 'sk', 'sk', 'sk', 'sk', 'sk', 'sk', 'ct', 'ct', 'ct', 'ct', 'ct', 'ct', 'cu', 'if', 'ti', 'ti', 'xu', 'fy', 'bm', 'bm', 'bm', 'bm', 'ml', 'ml', 'ml', 'pd', 'pd', 'pd', 'pd', 'hp', 'sn', 'sn', 'sn', 'sn', 'sn', 'ya', 'ya', 'wr', 'wr', 'wr', 'qe', 'en', 'en', 'un', 'wt', 'wt', 'wt', 'fs', 'fs', 'fs', 'fs', 'fs', 'fs', 'gl', 'qh', 'ug', 'sb', 'sb', 'oy', 'sy', 'sy', 'sy', 'sy', 'sy', 'sy', 'sy', 'sy', 'sy', 'hm', 'dn', 'dn', 'dn', 'dn', 'dn', 'dn', 'dn', 'p2', 'by', 'by', 'by', 'by', 'by', 'by', 'by', 'by', 'ci', 'ci', 'to', 'to', 'bn', 'bn', 'bn', 'bn', 'bn', 'bn', 'ma', 'ma', 'ma', 'zn', 'zn', 'le', 'le', 'dx', 'dx', 'dx', 'ld', 'lo', 'lo', 'lo', 'lo', 'dy', 'dy', 'dy', 'an', 'an', 'ie', 'ie', 'wd', 'th', 'th', 'th', 'va', 'va', 'ze', 'ze', 'bh', 'bh', 'ch', 'ch', 'ch', 'co', 'co', 'co', 'wn', 'hl', 'ke', 'ke', 'ji', 'ly', 'ly', 'ly', 'bw', 'cs', 'cs', 'fl', 'cg', 'cg', 'cg', 'bg', 'bg', 'hy', 'mx', 'si', 'ck', 'ck', 'aw', 'aw', 'pz', 'ue', 'af', 'da', 'da', 'ga', 'ga', 'ga', 'ga', 'ga', 'vi', 'sd', 'za', 'za', 'za', 'za', 'gh', 'zk', 'fh', 'fh', 'jt', 'jk', 'lk', 'fe', 'fe', 'fe', 'fe', 'fe', 'bc', 'bp', 'vy', 'qn', 'fg', 'fu', 'iy', 'hk', 'ki', 'wi', 'tx', 'ou', 'tu', 'mu', 'jo', 'xe', 'ty', 'ty', 'in', 'wo', 'bd', 'ba', 'ip', 'dh', 'dk', 'ku', 'cx']\n"
     ]
    }
   ],
   "source": [
    "array_for_rust = []\n",
    "for i in nodes.keys():\n",
    "  for j in range(nodes[i]):\n",
    "    array_for_rust.append(i)\n",
    "\n",
    "with open('array_for_rust.json', 'w') as outfile:\n",
    "  json.dump(array_for_rust, outfile)\n",
    "\n",
    "print(array_for_rust)"
   ]
  }
 ],
 "metadata": {
  "interpreter": {
   "hash": "5bbb517b78c7f994c23c40eb7ead9cd0050f5cb4c8662321a9ba3a68c826a05d"
  },
  "kernelspec": {
   "display_name": "Python 3.10.8 ('.venv': venv)",
   "language": "python",
   "name": "python3"
  },
  "language_info": {
   "codemirror_mode": {
    "name": "ipython",
    "version": 3
   },
   "file_extension": ".py",
   "mimetype": "text/x-python",
   "name": "python",
   "nbconvert_exporter": "python",
   "pygments_lexer": "ipython3",
   "version": "3.10.8"
  },
  "orig_nbformat": 4
 },
 "nbformat": 4,
 "nbformat_minor": 2
}
