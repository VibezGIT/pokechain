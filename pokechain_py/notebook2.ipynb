{
 "cells": [
  {
   "cell_type": "markdown",
   "metadata": {},
   "source": [
    "# The Pokechain Problem"
   ]
  },
  {
   "cell_type": "code",
   "execution_count": 19,
   "metadata": {},
   "outputs": [
    {
     "name": "stdout",
     "output_type": "stream",
     "text": [
      "['bulbasaur', 'ivysaur', 'venusaur', 'charmander', 'charmeleon', 'charizard', 'squirtle', 'wartortle', 'blastoise', 'caterpie', 'metapod', 'butterfree', 'weedle', 'kakuna', 'beedrill', 'pidgey', 'pidgeotto', 'pidgeot', 'rattata', 'raticate', 'spearow', 'fearow', 'ekans', 'arbok', 'pikachu', 'raichu', 'sandshrew', 'sandslash', 'nidoran', 'nidorina', 'nidoqueen', 'nidorino', 'nidoking', 'clefairy', 'clefable', 'vulpix', 'ninetales', 'jigglypuff', 'wigglytuff', 'zubat', 'golbat', 'oddish', 'gloom', 'vileplume', 'paras', 'parasect', 'venonat', 'venomoth', 'diglett', 'dugtrio', 'meowth', 'persian', 'psyduck', 'golduck', 'mankey', 'primeape', 'growlithe', 'arcanine', 'poliwag', 'poliwhirl', 'poliwrath', 'abra', 'kadabra', 'alakazam']\n",
      "{'b': {'r': 1, 'e': 2, 'l': 1}, 'i': {'r': 1}, 'v': {'r': 1, 'x': 1, 'e': 1, 't': 1, 'h': 1}, 'c': {'r': 1, 'n': 1, 'd': 1, 'e': 2, 'y': 1}, 's': {'e': 1, 'w': 2, 'h': 1}, 'w': {'e': 2, 'f': 1}, 'm': {'d': 1, 'h': 1, 'y': 1}, 'k': {'a': 2}, 'p': {'y': 1, 'o': 1, 't': 2, 'u': 1, 's': 1, 'n': 1, 'k': 1, 'e': 1, 'g': 1, 'l': 1, 'h': 1}, 'r': {'a': 1, 'e': 1, 'u': 1}, 'f': {'w': 1}, 'e': {'s': 1}, 'a': {'k': 1, 'e': 1, 'a': 1, 'm': 1}, 'n': {'n': 2, 'a': 1, 'o': 1, 'g': 1, 's': 1}, 'j': {'f': 1}, 'z': {'t': 1}, 'g': {'t': 1, 'm': 1, 'k': 1, 'e': 1}, 'o': {'h': 1}, 'd': {'t': 1, 'o': 1}}\n"
     ]
    }
   ],
   "source": [
    "import json\n",
    "import copy\n",
    "\n",
    "#load the pokedex\n",
    "pokedex = json.load(open('pokedex.json'))\n",
    "pokedex = pokedex[:64]\n",
    "print(pokedex)\n",
    "\n",
    "nodes = {}\n",
    "remainder = {}\n",
    "\n",
    "for i in pokedex:\n",
    "  start = i[0]\n",
    "  end = i[-1]\n",
    "  if start in nodes:\n",
    "    if end in nodes[start]:\n",
    "      nodes[start][end] += 1\n",
    "    else:\n",
    "      nodes[start][end] = 1\n",
    "  else:\n",
    "    nodes[start] = {}\n",
    "    nodes[start][end] = 1\n",
    "\n",
    "  if start in remainder:\n",
    "    remainder[start] += 1\n",
    "  else:\n",
    "    remainder[start] = 1\n",
    "\n",
    "print(nodes)"
   ]
  },
  {
   "cell_type": "code",
   "execution_count": 20,
   "metadata": {},
   "outputs": [],
   "source": [
    "def dft(node, nodes, chain, remainder):\n",
    "    new_chain = copy.deepcopy(chain)\n",
    "    new_chain.append(node)\n",
    "    longest_chain = new_chain\n",
    "    if node in nodes:\n",
    "        edges = nodes[node].keys()\n",
    "        for i in edges:\n",
    "            new_rem = copy.deepcopy(remainder)\n",
    "            if i in new_rem:\n",
    "                if new_rem[i] == 1:\n",
    "                    del new_rem[i]\n",
    "                else:\n",
    "                    new_rem[i] -= 1\n",
    "                longest_chain = max(longest_chain, dft(i, nodes, new_chain, new_rem))\n",
    "            \n",
    "    \n",
    "    return longest_chain"
   ]
  },
  {
   "cell_type": "code",
   "execution_count": 21,
   "metadata": {},
   "outputs": [
    {
     "name": "stdout",
     "output_type": "stream",
     "text": [
      "['b', 'r', 'e', 's', 'w', 'f', 'w']\n"
     ]
    }
   ],
   "source": [
    "chain = dft(\"b\", nodes, [], remainder)\n",
    "print(chain)"
   ]
  }
 ],
 "metadata": {
  "kernelspec": {
   "display_name": "Python 3.8.10 ('.venv': venv)",
   "language": "python",
   "name": "python3"
  },
  "language_info": {
   "codemirror_mode": {
    "name": "ipython",
    "version": 3
   },
   "file_extension": ".py",
   "mimetype": "text/x-python",
   "name": "python",
   "nbconvert_exporter": "python",
   "pygments_lexer": "ipython3",
   "version": "3.8.10"
  },
  "orig_nbformat": 4,
  "vscode": {
   "interpreter": {
    "hash": "b958d974317d8f0464be0902626227c340e1970b9a78f40916f2ab5ccad5ab87"
   }
  }
 },
 "nbformat": 4,
 "nbformat_minor": 2
}
